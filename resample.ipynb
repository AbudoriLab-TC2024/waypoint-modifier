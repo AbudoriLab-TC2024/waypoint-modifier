{
 "cells": [
  {
   "cell_type": "code",
   "execution_count": 5,
   "metadata": {},
   "outputs": [],
   "source": [
    "# i/o file\n",
    "SRC = \"test/data/pose.csv\"\n",
    "OUT = None"
   ]
  },
  {
   "cell_type": "code",
   "execution_count": 6,
   "metadata": {},
   "outputs": [],
   "source": [
    "# parameters\n",
    "X=\"/pcl_pose/pose/pose/position/x\"\n",
    "Y=\"/pcl_pose/pose/pose/position/y\"\n",
    "DIST=\"distance\"\n",
    "WINDOW=20\n",
    "MIN_R=0.1\n",
    "MIN_ACCUM_DIST=0.2\n",
    "MAX_ACCUM_DIST=20\n",
    "MAX_ACCUM_CURV=3"
   ]
  },
  {
   "cell_type": "code",
   "execution_count": 7,
   "metadata": {},
   "outputs": [],
   "source": [
    "import waypoint_modifier as wm\n",
    "import pandas as pd\n",
    "\n",
    "df = pd.read_csv(SRC)\n",
    "sparse_df = wm.resample(\n",
    "    df,MIN_ACCUM_DIST, MAX_ACCUM_DIST, MAX_ACCUM_CURV, WINDOW, MIN_R, X, y_col=Y, distance_col=DIST\n",
    ")\n",
    "out = OUT if OUT is not None else f\"{SRC[0:-4]}_sparse.csv\"\n",
    "sparse_df.to_csv(out)"
   ]
  },
  {
   "cell_type": "code",
   "execution_count": null,
   "metadata": {},
   "outputs": [],
   "source": [
    "# check output\n",
    "dst_df = pd.read_csv(out)\n",
    "\n",
    "fig = wm.create_figure()\n",
    "fig = wm.plot_trajectory(df,\"src\", X, Y, DIST, fig=fig)\n",
    "fig = wm.plot_trajectory(dst_df, \"resample\", X, Y, DIST, fig=fig, marker_size=8)\n",
    "\n",
    "fig.show(config=dict(scrollZoom=True))"
   ]
  }
 ],
 "metadata": {
  "kernelspec": {
   "display_name": ".venv",
   "language": "python",
   "name": "python3"
  },
  "language_info": {
   "codemirror_mode": {
    "name": "ipython",
    "version": 3
   },
   "file_extension": ".py",
   "mimetype": "text/x-python",
   "name": "python",
   "nbconvert_exporter": "python",
   "pygments_lexer": "ipython3",
   "version": "3.10.12"
  }
 },
 "nbformat": 4,
 "nbformat_minor": 2
}
